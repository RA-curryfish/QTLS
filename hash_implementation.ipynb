{
  "nbformat": 4,
  "nbformat_minor": 0,
  "metadata": {
    "colab": {
      "provenance": []
    },
    "kernelspec": {
      "name": "python3",
      "display_name": "Python 3"
    },
    "language_info": {
      "name": "python"
    }
  },
  "cells": [
    {
      "cell_type": "code",
      "execution_count": null,
      "metadata": {
        "id": "duFxiHbufgYp"
      },
      "outputs": [],
      "source": [
        "!pip install qiskit\n",
        "!pip install qiskit_ibm_runtime"
      ]
    },
    {
      "cell_type": "code",
      "source": [
        "from qiskit import QuantumCircuit, transpile\n",
        "import random\n",
        "from qiskit.visualization import circuit_drawer\n",
        "import statistics\n",
        "from scipy.stats import chisquare\n",
        "from qiskit_ibm_runtime.fake_provider import FakeVigo, FakeAlgiers, FakeAthens, FakeHanoi, FakeBoeblingen\n",
        "\n",
        "backend = FakeBoeblingen()"
      ],
      "metadata": {
        "id": "ENtunhhlf36t"
      },
      "execution_count": 2,
      "outputs": []
    },
    {
      "cell_type": "code",
      "source": [
        "\n",
        "def angle_encoding_hash_8bit(n_qubits, bit_string, x, y, x1, y1):\n",
        "\n",
        "    \"\"\"\n",
        "    Hash the input bit string using the parameterized quantum circuit.\n",
        "\n",
        "    Args:\n",
        "        bit_string (str): A binary bit string, e.g., '1010'.\n",
        "        x (float): The angle to add to qubits when the corresponding bit is '1'.\n",
        "        y (float): The angle to add to qubits when the corresponding bit is '0'.\n",
        "\n",
        "    Returns:\n",
        "        int: The hash value as an integer.\n",
        "    \"\"\"\n",
        "    # Assuming bit_string is already a string of bits (like '10100101')\n",
        "    print(bit_string)\n",
        "    qc = QuantumCircuit(n_qubits)\n",
        "    for j in range(8):\n",
        "        if j < 4:\n",
        "            if bit_string[7 - j] == '1':\n",
        "                qc.rx(x, j)  # Apply an Rx gate with angle x if the j-th bit is 1\n",
        "            else:\n",
        "                qc.rx(y, j)  # Apply an Rx gate with angle y if the j-th bit is 0\n",
        "        else:\n",
        "            if bit_string[7 - j] == '1':\n",
        "                qc.ry(x1, j - 4)  # Apply a Ry gate with angle x1 if the j-th bit is 1\n",
        "            else:\n",
        "                qc.ry(y1, j - 4)  # Apply a Ry gate with angle y1 if the j-th bit is 0\n",
        "\n",
        "    for i in range(n_qubits - 1):\n",
        "        qc.cx(i + 1, i)  # Apply CNOT gates between adjacent qubits\n",
        "\n",
        "    qc.measure_all()\n",
        "    compiled_circuit = transpile(qc, optimization_level=1)\n",
        "    return simulate(compiled_circuit)\n",
        "\n",
        "def simulate(circuit):\n",
        "    device_backend = FakeBoeblingen()\n",
        "    transpiled_circuit = transpile(circuit, device_backend)\n",
        "    job = device_backend.run(transpiled_circuit)\n",
        "    result = job.result()\n",
        "    counts = result.get_counts()\n",
        "    most_sampled_outcome = max(counts, key=lambda k: counts[k])\n",
        "    return int(most_sampled_outcome, 2)\n",
        "\n",
        "def user_input_to_hash():\n",
        "    n_qubits = 4\n",
        "    x, y, x1, y1 = 3.14159265359, 0, 0, 3.14159265359\n",
        "    user_input = input(\"Enter an integer to hash: \")  # Prompting user input\n",
        "    try:\n",
        "        # Convert integer input to an 8-bit binary string\n",
        "        bit_string = bin(int(user_input))[2:].zfill(8)\n",
        "        hash_value = angle_encoding_hash_8bit(n_qubits, bit_string, x, y, x1, y1)\n",
        "        hash_bit_string = bin(hash_value)[2:].zfill(8)  # Assuming the hash fits within n_qubits bits\n",
        "        print(f\"Hash value for input '{user_input}' is: {hash_bit_string}\")\n",
        "\n",
        "    except ValueError as e:\n",
        "        print(\"Invalid input. Please enter a valid integer.\")\n",
        "        print(f\"Error: {e}\")\n",
        "\n",
        "# Example usage\n",
        "if __name__ == \"__main__\":\n",
        "    user_input_to_hash()\n"
      ],
      "metadata": {
        "colab": {
          "base_uri": "https://localhost:8080/"
        },
        "id": "umeEexepcU3w",
        "outputId": "10195371-6099-474f-b9cf-53f7a739999b"
      },
      "execution_count": 4,
      "outputs": [
        {
          "output_type": "stream",
          "name": "stdout",
          "text": [
            "Enter an integer to hash: 67\n",
            "01000011\n",
            "Hash value for input '67' is: 00001100\n"
          ]
        }
      ]
    }
  ]
}